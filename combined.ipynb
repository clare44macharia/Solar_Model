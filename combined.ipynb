{
 "cells": [
  {
   "cell_type": "code",
   "execution_count": 1,
   "metadata": {},
   "outputs": [],
   "source": [
    "import pandas as pd"
   ]
  },
  {
   "cell_type": "code",
   "execution_count": 2,
   "metadata": {},
   "outputs": [],
   "source": [
    "import numpy as np\n",
    "import matplotlib.pyplot as plt"
   ]
  },
  {
   "cell_type": "code",
   "execution_count": 3,
   "metadata": {},
   "outputs": [],
   "source": [
    "weather = pd.read_csv(\"weather-random.csv\")"
   ]
  },
  {
   "cell_type": "code",
   "execution_count": 4,
   "metadata": {},
   "outputs": [
    {
     "data": {
      "text/html": [
       "<div>\n",
       "<style scoped>\n",
       "    .dataframe tbody tr th:only-of-type {\n",
       "        vertical-align: middle;\n",
       "    }\n",
       "\n",
       "    .dataframe tbody tr th {\n",
       "        vertical-align: top;\n",
       "    }\n",
       "\n",
       "    .dataframe thead th {\n",
       "        text-align: right;\n",
       "    }\n",
       "</style>\n",
       "<table border=\"1\" class=\"dataframe\">\n",
       "  <thead>\n",
       "    <tr style=\"text-align: right;\">\n",
       "      <th></th>\n",
       "      <th>Random</th>\n",
       "      <th>Date</th>\n",
       "      <th>Cloud coverage</th>\n",
       "      <th>Visibility</th>\n",
       "      <th>Temperature</th>\n",
       "      <th>Dew point</th>\n",
       "      <th>Relative humidity</th>\n",
       "      <th>Wind speed</th>\n",
       "      <th>Station pressure</th>\n",
       "      <th>Altimeter</th>\n",
       "      <th>Solar energy</th>\n",
       "      <th>(Inverters)</th>\n",
       "    </tr>\n",
       "  </thead>\n",
       "  <tbody>\n",
       "    <tr>\n",
       "      <td>0</td>\n",
       "      <td>0.831284</td>\n",
       "      <td>5/30/2017</td>\n",
       "      <td>0.31</td>\n",
       "      <td>9.96</td>\n",
       "      <td>19.77</td>\n",
       "      <td>7.51</td>\n",
       "      <td>45.51</td>\n",
       "      <td>10.91</td>\n",
       "      <td>27.20</td>\n",
       "      <td>29.99</td>\n",
       "      <td>35074.0</td>\n",
       "      <td>NaN</td>\n",
       "    </tr>\n",
       "    <tr>\n",
       "      <td>1</td>\n",
       "      <td>0.605385</td>\n",
       "      <td>7/26/2017</td>\n",
       "      <td>0.27</td>\n",
       "      <td>9.41</td>\n",
       "      <td>24.57</td>\n",
       "      <td>21.81</td>\n",
       "      <td>83.62</td>\n",
       "      <td>5.09</td>\n",
       "      <td>29.26</td>\n",
       "      <td>30.05</td>\n",
       "      <td>28983.0</td>\n",
       "      <td>NaN</td>\n",
       "    </tr>\n",
       "    <tr>\n",
       "      <td>2</td>\n",
       "      <td>0.622957</td>\n",
       "      <td>6/5/2016</td>\n",
       "      <td>0.35</td>\n",
       "      <td>10.00</td>\n",
       "      <td>20.79</td>\n",
       "      <td>15.21</td>\n",
       "      <td>68.98</td>\n",
       "      <td>11.61</td>\n",
       "      <td>28.96</td>\n",
       "      <td>29.75</td>\n",
       "      <td>28213.0</td>\n",
       "      <td>NaN</td>\n",
       "    </tr>\n",
       "    <tr>\n",
       "      <td>3</td>\n",
       "      <td>0.828596</td>\n",
       "      <td>1/19/2017</td>\n",
       "      <td>0.70</td>\n",
       "      <td>3.63</td>\n",
       "      <td>4.34</td>\n",
       "      <td>4.01</td>\n",
       "      <td>95.85</td>\n",
       "      <td>8.08</td>\n",
       "      <td>29.09</td>\n",
       "      <td>29.88</td>\n",
       "      <td>3127.0</td>\n",
       "      <td>NaN</td>\n",
       "    </tr>\n",
       "    <tr>\n",
       "      <td>4</td>\n",
       "      <td>0.416856</td>\n",
       "      <td>5/5/2017</td>\n",
       "      <td>0.12</td>\n",
       "      <td>10.00</td>\n",
       "      <td>10.78</td>\n",
       "      <td>5.44</td>\n",
       "      <td>70.45</td>\n",
       "      <td>15.34</td>\n",
       "      <td>28.98</td>\n",
       "      <td>29.77</td>\n",
       "      <td>39832.0</td>\n",
       "      <td>NaN</td>\n",
       "    </tr>\n",
       "  </tbody>\n",
       "</table>\n",
       "</div>"
      ],
      "text/plain": [
       "     Random       Date  Cloud coverage  Visibility  Temperature  Dew point  \\\n",
       "0  0.831284  5/30/2017            0.31        9.96        19.77       7.51   \n",
       "1  0.605385  7/26/2017            0.27        9.41        24.57      21.81   \n",
       "2  0.622957   6/5/2016            0.35       10.00        20.79      15.21   \n",
       "3  0.828596  1/19/2017            0.70        3.63         4.34       4.01   \n",
       "4  0.416856   5/5/2017            0.12       10.00        10.78       5.44   \n",
       "\n",
       "   Relative humidity  Wind speed  Station pressure  Altimeter  Solar energy  \\\n",
       "0              45.51       10.91             27.20      29.99       35074.0   \n",
       "1              83.62        5.09             29.26      30.05       28983.0   \n",
       "2              68.98       11.61             28.96      29.75       28213.0   \n",
       "3              95.85        8.08             29.09      29.88        3127.0   \n",
       "4              70.45       15.34             28.98      29.77       39832.0   \n",
       "\n",
       "   (Inverters)  \n",
       "0          NaN  \n",
       "1          NaN  \n",
       "2          NaN  \n",
       "3          NaN  \n",
       "4          NaN  "
      ]
     },
     "execution_count": 4,
     "metadata": {},
     "output_type": "execute_result"
    }
   ],
   "source": [
    "weather.head(5)"
   ]
  },
  {
   "cell_type": "code",
   "execution_count": 5,
   "metadata": {},
   "outputs": [],
   "source": [
    "weather.drop([\"(Inverters)\",\"Random\",\"Date\"], axis = 1, inplace = True) "
   ]
  },
  {
   "cell_type": "code",
   "execution_count": 6,
   "metadata": {},
   "outputs": [
    {
     "data": {
      "text/plain": [
       "(637, 9)"
      ]
     },
     "execution_count": 6,
     "metadata": {},
     "output_type": "execute_result"
    }
   ],
   "source": [
    "weather.shape"
   ]
  },
  {
   "cell_type": "code",
   "execution_count": 7,
   "metadata": {},
   "outputs": [
    {
     "data": {
      "text/plain": [
       "Cloud coverage       float64\n",
       "Visibility           float64\n",
       "Temperature          float64\n",
       "Dew point            float64\n",
       "Relative humidity    float64\n",
       "Wind speed           float64\n",
       "Station pressure     float64\n",
       "Altimeter            float64\n",
       "Solar energy         float64\n",
       "dtype: object"
      ]
     },
     "execution_count": 7,
     "metadata": {},
     "output_type": "execute_result"
    }
   ],
   "source": [
    "weather.dtypes"
   ]
  },
  {
   "cell_type": "code",
   "execution_count": 8,
   "metadata": {},
   "outputs": [
    {
     "data": {
      "text/html": [
       "<div>\n",
       "<style scoped>\n",
       "    .dataframe tbody tr th:only-of-type {\n",
       "        vertical-align: middle;\n",
       "    }\n",
       "\n",
       "    .dataframe tbody tr th {\n",
       "        vertical-align: top;\n",
       "    }\n",
       "\n",
       "    .dataframe thead th {\n",
       "        text-align: right;\n",
       "    }\n",
       "</style>\n",
       "<table border=\"1\" class=\"dataframe\">\n",
       "  <thead>\n",
       "    <tr style=\"text-align: right;\">\n",
       "      <th></th>\n",
       "      <th>Cloud coverage</th>\n",
       "      <th>Visibility</th>\n",
       "      <th>Temperature</th>\n",
       "      <th>Dew point</th>\n",
       "      <th>Relative humidity</th>\n",
       "      <th>Wind speed</th>\n",
       "      <th>Station pressure</th>\n",
       "      <th>Altimeter</th>\n",
       "      <th>Solar energy</th>\n",
       "    </tr>\n",
       "  </thead>\n",
       "  <tbody>\n",
       "    <tr>\n",
       "      <td>0</td>\n",
       "      <td>0.31</td>\n",
       "      <td>9.96</td>\n",
       "      <td>19.77</td>\n",
       "      <td>7.51</td>\n",
       "      <td>45.51</td>\n",
       "      <td>10.91</td>\n",
       "      <td>27.20</td>\n",
       "      <td>29.99</td>\n",
       "      <td>35074.0</td>\n",
       "    </tr>\n",
       "    <tr>\n",
       "      <td>1</td>\n",
       "      <td>0.27</td>\n",
       "      <td>9.41</td>\n",
       "      <td>24.57</td>\n",
       "      <td>21.81</td>\n",
       "      <td>83.62</td>\n",
       "      <td>5.09</td>\n",
       "      <td>29.26</td>\n",
       "      <td>30.05</td>\n",
       "      <td>28983.0</td>\n",
       "    </tr>\n",
       "    <tr>\n",
       "      <td>2</td>\n",
       "      <td>0.35</td>\n",
       "      <td>10.00</td>\n",
       "      <td>20.79</td>\n",
       "      <td>15.21</td>\n",
       "      <td>68.98</td>\n",
       "      <td>11.61</td>\n",
       "      <td>28.96</td>\n",
       "      <td>29.75</td>\n",
       "      <td>28213.0</td>\n",
       "    </tr>\n",
       "    <tr>\n",
       "      <td>3</td>\n",
       "      <td>0.70</td>\n",
       "      <td>3.63</td>\n",
       "      <td>4.34</td>\n",
       "      <td>4.01</td>\n",
       "      <td>95.85</td>\n",
       "      <td>8.08</td>\n",
       "      <td>29.09</td>\n",
       "      <td>29.88</td>\n",
       "      <td>3127.0</td>\n",
       "    </tr>\n",
       "    <tr>\n",
       "      <td>4</td>\n",
       "      <td>0.12</td>\n",
       "      <td>10.00</td>\n",
       "      <td>10.78</td>\n",
       "      <td>5.44</td>\n",
       "      <td>70.45</td>\n",
       "      <td>15.34</td>\n",
       "      <td>28.98</td>\n",
       "      <td>29.77</td>\n",
       "      <td>39832.0</td>\n",
       "    </tr>\n",
       "    <tr>\n",
       "      <td>5</td>\n",
       "      <td>0.49</td>\n",
       "      <td>9.98</td>\n",
       "      <td>22.87</td>\n",
       "      <td>17.66</td>\n",
       "      <td>69.39</td>\n",
       "      <td>2.89</td>\n",
       "      <td>29.10</td>\n",
       "      <td>29.89</td>\n",
       "      <td>29671.0</td>\n",
       "    </tr>\n",
       "    <tr>\n",
       "      <td>6</td>\n",
       "      <td>0.16</td>\n",
       "      <td>10.00</td>\n",
       "      <td>21.68</td>\n",
       "      <td>16.35</td>\n",
       "      <td>67.06</td>\n",
       "      <td>6.52</td>\n",
       "      <td>29.23</td>\n",
       "      <td>30.03</td>\n",
       "      <td>30312.0</td>\n",
       "    </tr>\n",
       "  </tbody>\n",
       "</table>\n",
       "</div>"
      ],
      "text/plain": [
       "   Cloud coverage  Visibility  Temperature  Dew point  Relative humidity  \\\n",
       "0            0.31        9.96        19.77       7.51              45.51   \n",
       "1            0.27        9.41        24.57      21.81              83.62   \n",
       "2            0.35       10.00        20.79      15.21              68.98   \n",
       "3            0.70        3.63         4.34       4.01              95.85   \n",
       "4            0.12       10.00        10.78       5.44              70.45   \n",
       "5            0.49        9.98        22.87      17.66              69.39   \n",
       "6            0.16       10.00        21.68      16.35              67.06   \n",
       "\n",
       "   Wind speed  Station pressure  Altimeter  Solar energy  \n",
       "0       10.91             27.20      29.99       35074.0  \n",
       "1        5.09             29.26      30.05       28983.0  \n",
       "2       11.61             28.96      29.75       28213.0  \n",
       "3        8.08             29.09      29.88        3127.0  \n",
       "4       15.34             28.98      29.77       39832.0  \n",
       "5        2.89             29.10      29.89       29671.0  \n",
       "6        6.52             29.23      30.03       30312.0  "
      ]
     },
     "execution_count": 8,
     "metadata": {},
     "output_type": "execute_result"
    }
   ],
   "source": [
    "weather.head(7)"
   ]
  },
  {
   "cell_type": "code",
   "execution_count": 11,
   "metadata": {},
   "outputs": [],
   "source": [
    "#Getting the variables to an array.\n",
    "CloudCoverage = weather['Cloud coverage'].values\n",
    "Visibility = weather['Visibility'].values\n",
    "Temperature = weather['Temperature'].values\n",
    "DewPoint= weather['Dew point'].values\n",
    "RelativeHumidity= weather['Relative humidity'].values\n",
    "WindSpeed= weather['Wind speed'].values\n",
    "StationPressure= weather['Station pressure'].values\n",
    "Altimeter= weather['Altimeter'].values\n",
    "SolarEnergy= weather['Solar energy'].values\n"
   ]
  },
  {
   "cell_type": "code",
   "execution_count": 10,
   "metadata": {},
   "outputs": [
    {
     "data": {
      "text/plain": [
       "Index(['Cloud coverage', 'Visibility', 'Temperature', 'Dew point',\n",
       "       'Relative humidity', 'Wind speed', 'Station pressure', 'Altimeter',\n",
       "       'Solar energy'],\n",
       "      dtype='object')"
      ]
     },
     "execution_count": 10,
     "metadata": {},
     "output_type": "execute_result"
    }
   ],
   "source": [
    "weather.columns"
   ]
  },
  {
   "cell_type": "code",
   "execution_count": 37,
   "metadata": {},
   "outputs": [],
   "source": [
    "X = np.array([CloudCoverage,Visibility,Temperature,DewPoint,RelativeHumidity,WindSpeed,StationPressure,Altimeter])\n",
    "    \n",
    "Y = np.array([SolarEnergy])"
   ]
  },
  {
   "cell_type": "code",
   "execution_count": 38,
   "metadata": {},
   "outputs": [],
   "source": [
    "# Model Intialization\n",
    "from sklearn.linear_model import LinearRegression\n",
    "from sklearn.metrics import mean_squared_error\n",
    "reg = LinearRegression()"
   ]
  },
  {
   "cell_type": "code",
   "execution_count": 40,
   "metadata": {},
   "outputs": [
    {
     "data": {
      "text/plain": [
       "(8, 637)"
      ]
     },
     "execution_count": 40,
     "metadata": {},
     "output_type": "execute_result"
    }
   ],
   "source": [
    "X.shape"
   ]
  },
  {
   "cell_type": "code",
   "execution_count": 41,
   "metadata": {},
   "outputs": [
    {
     "data": {
      "text/plain": [
       "(1, 637)"
      ]
     },
     "execution_count": 41,
     "metadata": {},
     "output_type": "execute_result"
    }
   ],
   "source": [
    "Y.shape"
   ]
  },
  {
   "cell_type": "code",
   "execution_count": 42,
   "metadata": {},
   "outputs": [],
   "source": [
    "X = X.transpose()"
   ]
  },
  {
   "cell_type": "code",
   "execution_count": 43,
   "metadata": {},
   "outputs": [
    {
     "data": {
      "text/plain": [
       "(637, 8)"
      ]
     },
     "execution_count": 43,
     "metadata": {},
     "output_type": "execute_result"
    }
   ],
   "source": [
    "X.shape"
   ]
  },
  {
   "cell_type": "code",
   "execution_count": 44,
   "metadata": {},
   "outputs": [],
   "source": [
    "Y = Y.transpose()"
   ]
  },
  {
   "cell_type": "code",
   "execution_count": 49,
   "metadata": {},
   "outputs": [],
   "source": [
    "# train and test data\n",
    "from sklearn.model_selection import train_test_split\n",
    "X_train, X_test, y_train, y_test = train_test_split(X, Y, test_size=0.33, random_state=42)"
   ]
  },
  {
   "cell_type": "code",
   "execution_count": 50,
   "metadata": {},
   "outputs": [],
   "source": [
    "# Data Fitting\n",
    "reg = reg.fit(X_train,y_train)"
   ]
  },
  {
   "cell_type": "code",
   "execution_count": 51,
   "metadata": {},
   "outputs": [],
   "source": [
    "# Y Prediction\n",
    "Y_pred = reg.predict(X_test)"
   ]
  },
  {
   "cell_type": "code",
   "execution_count": 61,
   "metadata": {},
   "outputs": [],
   "source": [
    "# Model Evaluation\n",
    "rmse = np.sqrt(mean_squared_error(y_test, Y_pred))\n",
    "r2 = reg.score(X, Y)"
   ]
  },
  {
   "cell_type": "code",
   "execution_count": 59,
   "metadata": {},
   "outputs": [
    {
     "name": "stdout",
     "output_type": "stream",
     "text": [
      "6925.291264420367\n",
      "0.6271321864990275\n"
     ]
    }
   ],
   "source": [
    "print(rmse)\n",
    "print(r2)"
   ]
  },
  {
   "cell_type": "code",
   "execution_count": 62,
   "metadata": {},
   "outputs": [
    {
     "name": "stderr",
     "output_type": "stream",
     "text": [
      "/home/anna/anaconda3/lib/python3.7/site-packages/sklearn/externals/joblib/__init__.py:15: DeprecationWarning: sklearn.externals.joblib is deprecated in 0.21 and will be removed in 0.23. Please import this functionality directly from joblib, which can be installed with: pip install joblib. If this warning is raised when loading pickled models, you may need to re-serialize those models with scikit-learn 0.21+.\n",
      "  warnings.warn(msg, category=DeprecationWarning)\n"
     ]
    }
   ],
   "source": [
    "from sklearn.externals import joblib"
   ]
  },
  {
   "cell_type": "code",
   "execution_count": 63,
   "metadata": {},
   "outputs": [
    {
     "data": {
      "text/plain": [
       "['reg.pkl']"
      ]
     },
     "execution_count": 63,
     "metadata": {},
     "output_type": "execute_result"
    }
   ],
   "source": [
    "joblib.dump(reg, 'reg.pkl')"
   ]
  },
  {
   "cell_type": "code",
   "execution_count": 71,
   "metadata": {},
   "outputs": [],
   "source": [
    "X_new= weather.loc[:, weather.columns != 'Solar energy']"
   ]
  },
  {
   "cell_type": "code",
   "execution_count": 72,
   "metadata": {},
   "outputs": [
    {
     "data": {
      "text/plain": [
       "Index(['Cloud coverage', 'Visibility', 'Temperature', 'Dew point',\n",
       "       'Relative humidity', 'Wind speed', 'Station pressure', 'Altimeter'],\n",
       "      dtype='object')"
      ]
     },
     "execution_count": 72,
     "metadata": {},
     "output_type": "execute_result"
    }
   ],
   "source": [
    "X_new.columns"
   ]
  },
  {
   "cell_type": "code",
   "execution_count": 73,
   "metadata": {},
   "outputs": [
    {
     "name": "stdout",
     "output_type": "stream",
     "text": [
      "Models columns dumped!\n"
     ]
    }
   ],
   "source": [
    "# Saving the data columns from training\n",
    "model_columns = list(X_new.columns)\n",
    "joblib.dump(model_columns, 'model_reg.pkl')\n",
    "print(\"Models columns dumped!\")"
   ]
  },
  {
   "cell_type": "code",
   "execution_count": 83,
   "metadata": {},
   "outputs": [
    {
     "name": "stdout",
     "output_type": "stream",
     "text": [
      "Coefficients: \n",
      " [[-1.62936318e+04 -7.82481725e+00  8.35472760e+02 -5.86366831e+02\n",
      "  -1.34934314e+02 -3.14690229e+01  1.11260074e+03  9.53721728e+02]]\n"
     ]
    }
   ],
   "source": [
    "# The coefficients\n",
    "print('Coefficients: \\n', reg.coef_)"
   ]
  },
  {
   "cell_type": "code",
   "execution_count": 87,
   "metadata": {},
   "outputs": [],
   "source": [
    "from sklearn import decomposition"
   ]
  },
  {
   "cell_type": "code",
   "execution_count": 88,
   "metadata": {},
   "outputs": [],
   "source": [
    "pca = decomposition.PCA()\n",
    "fa = decomposition.FactorAnalysis()"
   ]
  },
  {
   "cell_type": "code",
   "execution_count": 89,
   "metadata": {},
   "outputs": [],
   "source": [
    "train, test = train_test_split(X,test_size = 0.3)\n"
   ]
  },
  {
   "cell_type": "code",
   "execution_count": 90,
   "metadata": {},
   "outputs": [
    {
     "data": {
      "text/plain": [
       "8"
      ]
     },
     "execution_count": 90,
     "metadata": {},
     "output_type": "execute_result"
    }
   ],
   "source": [
    "train_reduced = pca.fit_transform(train)\n",
    "test_reduced = pca.transform(test)\n",
    "pca.n_components_"
   ]
  },
  {
   "cell_type": "code",
   "execution_count": 91,
   "metadata": {},
   "outputs": [
    {
     "name": "stderr",
     "output_type": "stream",
     "text": [
      "/home/anna/anaconda3/lib/python3.7/site-packages/sklearn/utils/validation.py:724: DataConversionWarning: A column-vector y was passed when a 1d array was expected. Please change the shape of y to (n_samples, ), for example using ravel().\n",
      "  y = column_or_1d(y, warn=True)\n"
     ]
    },
    {
     "data": {
      "text/plain": [
       "AdaBoostClassifier(algorithm='SAMME.R',\n",
       "                   base_estimator=DecisionTreeClassifier(class_weight=None,\n",
       "                                                         criterion='gini',\n",
       "                                                         max_depth=None,\n",
       "                                                         max_features=None,\n",
       "                                                         max_leaf_nodes=None,\n",
       "                                                         min_impurity_decrease=0.0,\n",
       "                                                         min_impurity_split=None,\n",
       "                                                         min_samples_leaf=1,\n",
       "                                                         min_samples_split=2,\n",
       "                                                         min_weight_fraction_leaf=0.0,\n",
       "                                                         presort=False,\n",
       "                                                         random_state=None,\n",
       "                                                         splitter='best'),\n",
       "                   learning_rate=1, n_estimators=100, random_state=None)"
      ]
     },
     "execution_count": 91,
     "metadata": {},
     "output_type": "execute_result"
    }
   ],
   "source": [
    "#for classification\n",
    "from sklearn.ensemble import AdaBoostClassifier\n",
    "#for regression\n",
    "from sklearn.ensemble import AdaBoostRegressor\n",
    "from sklearn.tree import DecisionTreeClassifier\n",
    "dt = DecisionTreeClassifier()\n",
    "clf = AdaBoostClassifier(n_estimators=100, base_estimator=dt,learning_rate=1)\n",
    "#Here we have used decision tree as a base estimator; Any ML learner can be used as base #estimator if it accepts sample weight\n",
    "clf.fit(X_train,y_train)"
   ]
  },
  {
   "cell_type": "code",
   "execution_count": 92,
   "metadata": {},
   "outputs": [],
   "source": [
    "#import required packages\n",
    "from sklearn import neighbors\n",
    "from sklearn.metrics import mean_squared_error \n",
    "from math import sqrt\n",
    "import matplotlib.pyplot as plt\n",
    "%matplotlib inline"
   ]
  },
  {
   "cell_type": "code",
   "execution_count": 107,
   "metadata": {},
   "outputs": [
    {
     "name": "stdout",
     "output_type": "stream",
     "text": [
      "RMSE value for k=  1 is: 23715.522360158247\n",
      "RMSE value for k=  2 is: 23715.522360158247\n",
      "RMSE value for k=  3 is: 23715.522360158247\n",
      "RMSE value for k=  4 is: 23715.522360158247\n",
      "RMSE value for k=  5 is: 23715.522360158247\n",
      "RMSE value for k=  6 is: 23715.522360158247\n",
      "RMSE value for k=  7 is: 23715.522360158247\n",
      "RMSE value for k=  8 is: 23715.522360158247\n"
     ]
    }
   ],
   "source": [
    "rmse_val = [] #to store rmse values for different k\n",
    "for K in range(8):\n",
    "    K = K+1\n",
    "    kmodel = neighbors.KNeighborsRegressor(n_neighbors = K)\n",
    "\n",
    "    kmodel.fit(X_train, y_train)  #fit the model\n",
    "    pred=model.predict(X_test) #make prediction on test set\n",
    "    error = sqrt(mean_squared_error(y_test,pred)) #calculate rmse\n",
    "    rmse_val.append(error) #store rmse values\n",
    "    print('RMSE value for k= ' , K , 'is:', error)"
   ]
  },
  {
   "cell_type": "code",
   "execution_count": 106,
   "metadata": {},
   "outputs": [
    {
     "data": {
      "text/plain": [
       "<matplotlib.axes._subplots.AxesSubplot at 0x7f0b2c4d8cd0>"
      ]
     },
     "execution_count": 106,
     "metadata": {},
     "output_type": "execute_result"
    },
    {
     "data": {
      "image/png": "[encoded data removed]",
      "text/plain": [
       "<Figure size 432x288 with 1 Axes>"
      ]
     },
     "metadata": {
      "needs_background": "light"
     },
     "output_type": "display_data"
    }
   ],
   "source": [
    "#plotting the rmse values against k values\n",
    "curve = pd.DataFrame(rmse_val) #elbow curve \n",
    "curve.plot()"
   ]
  },
  {
   "cell_type": "code",
   "execution_count": null,
   "metadata": {},
   "outputs": [],
   "source": []
  }
 ],
 "metadata": {
  "kernelspec": {
   "display_name": "Python 3",
   "language": "python",
   "name": "python3"
  },
  "language_info": {
   "codemirror_mode": {
    "name": "ipython",
    "version": 3
   },
   "file_extension": ".py",
   "mimetype": "text/x-python",
   "name": "python",
   "nbconvert_exporter": "python",
   "pygments_lexer": "ipython3",
   "version": "3.7.4"
  }
 },
 "nbformat": 4,
 "nbformat_minor": 2
}
