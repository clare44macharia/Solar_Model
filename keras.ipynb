{
 "cells": [
  {
   "cell_type": "code",
   "execution_count": 1,
   "metadata": {},
   "outputs": [
    {
     "name": "stderr",
     "output_type": "stream",
     "text": [
      "Using TensorFlow backend.\n"
     ]
    }
   ],
   "source": [
    "import keras"
   ]
  },
  {
   "cell_type": "code",
   "execution_count": 2,
   "metadata": {},
   "outputs": [],
   "source": [
    "import pandas as pd"
   ]
  },
  {
   "cell_type": "code",
   "execution_count": 3,
   "metadata": {},
   "outputs": [],
   "source": [
    "weather = pd.read_csv(\"weather-random.csv\")"
   ]
  },
  {
   "cell_type": "code",
   "execution_count": 4,
   "metadata": {},
   "outputs": [
    {
     "data": {
      "text/html": [
       "<div>\n",
       "<style scoped>\n",
       "    .dataframe tbody tr th:only-of-type {\n",
       "        vertical-align: middle;\n",
       "    }\n",
       "\n",
       "    .dataframe tbody tr th {\n",
       "        vertical-align: top;\n",
       "    }\n",
       "\n",
       "    .dataframe thead th {\n",
       "        text-align: right;\n",
       "    }\n",
       "</style>\n",
       "<table border=\"1\" class=\"dataframe\">\n",
       "  <thead>\n",
       "    <tr style=\"text-align: right;\">\n",
       "      <th></th>\n",
       "      <th>Random</th>\n",
       "      <th>Date</th>\n",
       "      <th>Cloud coverage</th>\n",
       "      <th>Visibility</th>\n",
       "      <th>Temperature</th>\n",
       "      <th>Dew point</th>\n",
       "      <th>Relative humidity</th>\n",
       "      <th>Wind speed</th>\n",
       "      <th>Station pressure</th>\n",
       "      <th>Altimeter</th>\n",
       "      <th>Solar energy</th>\n",
       "      <th>(Inverters)</th>\n",
       "    </tr>\n",
       "  </thead>\n",
       "  <tbody>\n",
       "    <tr>\n",
       "      <td>0</td>\n",
       "      <td>0.831284</td>\n",
       "      <td>5/30/2017</td>\n",
       "      <td>0.31</td>\n",
       "      <td>9.96</td>\n",
       "      <td>19.77</td>\n",
       "      <td>7.51</td>\n",
       "      <td>45.51</td>\n",
       "      <td>10.91</td>\n",
       "      <td>27.20</td>\n",
       "      <td>29.99</td>\n",
       "      <td>35074.0</td>\n",
       "      <td>NaN</td>\n",
       "    </tr>\n",
       "    <tr>\n",
       "      <td>1</td>\n",
       "      <td>0.605385</td>\n",
       "      <td>7/26/2017</td>\n",
       "      <td>0.27</td>\n",
       "      <td>9.41</td>\n",
       "      <td>24.57</td>\n",
       "      <td>21.81</td>\n",
       "      <td>83.62</td>\n",
       "      <td>5.09</td>\n",
       "      <td>29.26</td>\n",
       "      <td>30.05</td>\n",
       "      <td>28983.0</td>\n",
       "      <td>NaN</td>\n",
       "    </tr>\n",
       "    <tr>\n",
       "      <td>2</td>\n",
       "      <td>0.622957</td>\n",
       "      <td>6/5/2016</td>\n",
       "      <td>0.35</td>\n",
       "      <td>10.00</td>\n",
       "      <td>20.79</td>\n",
       "      <td>15.21</td>\n",
       "      <td>68.98</td>\n",
       "      <td>11.61</td>\n",
       "      <td>28.96</td>\n",
       "      <td>29.75</td>\n",
       "      <td>28213.0</td>\n",
       "      <td>NaN</td>\n",
       "    </tr>\n",
       "    <tr>\n",
       "      <td>3</td>\n",
       "      <td>0.828596</td>\n",
       "      <td>1/19/2017</td>\n",
       "      <td>0.70</td>\n",
       "      <td>3.63</td>\n",
       "      <td>4.34</td>\n",
       "      <td>4.01</td>\n",
       "      <td>95.85</td>\n",
       "      <td>8.08</td>\n",
       "      <td>29.09</td>\n",
       "      <td>29.88</td>\n",
       "      <td>3127.0</td>\n",
       "      <td>NaN</td>\n",
       "    </tr>\n",
       "    <tr>\n",
       "      <td>4</td>\n",
       "      <td>0.416856</td>\n",
       "      <td>5/5/2017</td>\n",
       "      <td>0.12</td>\n",
       "      <td>10.00</td>\n",
       "      <td>10.78</td>\n",
       "      <td>5.44</td>\n",
       "      <td>70.45</td>\n",
       "      <td>15.34</td>\n",
       "      <td>28.98</td>\n",
       "      <td>29.77</td>\n",
       "      <td>39832.0</td>\n",
       "      <td>NaN</td>\n",
       "    </tr>\n",
       "  </tbody>\n",
       "</table>\n",
       "</div>"
      ],
      "text/plain": [
       "     Random       Date  Cloud coverage  Visibility  Temperature  Dew point  \\\n",
       "0  0.831284  5/30/2017            0.31        9.96        19.77       7.51   \n",
       "1  0.605385  7/26/2017            0.27        9.41        24.57      21.81   \n",
       "2  0.622957   6/5/2016            0.35       10.00        20.79      15.21   \n",
       "3  0.828596  1/19/2017            0.70        3.63         4.34       4.01   \n",
       "4  0.416856   5/5/2017            0.12       10.00        10.78       5.44   \n",
       "\n",
       "   Relative humidity  Wind speed  Station pressure  Altimeter  Solar energy  \\\n",
       "0              45.51       10.91             27.20      29.99       35074.0   \n",
       "1              83.62        5.09             29.26      30.05       28983.0   \n",
       "2              68.98       11.61             28.96      29.75       28213.0   \n",
       "3              95.85        8.08             29.09      29.88        3127.0   \n",
       "4              70.45       15.34             28.98      29.77       39832.0   \n",
       "\n",
       "   (Inverters)  \n",
       "0          NaN  \n",
       "1          NaN  \n",
       "2          NaN  \n",
       "3          NaN  \n",
       "4          NaN  "
      ]
     },
     "execution_count": 4,
     "metadata": {},
     "output_type": "execute_result"
    }
   ],
   "source": [
    "weather.head(5)"
   ]
  },
  {
   "cell_type": "code",
   "execution_count": 5,
   "metadata": {},
   "outputs": [],
   "source": [
    "weather.drop([\"(Inverters)\"], axis = 1, inplace = True) "
   ]
  },
  {
   "cell_type": "code",
   "execution_count": 6,
   "metadata": {},
   "outputs": [],
   "source": [
    "df = pd.DataFrame(weather, columns = ['Date', 'Cloud coverage', 'Visibility', 'Temperature', 'Dew point',\n",
    "       'Relative humidity', 'Wind speed', 'Station pressure', 'Altimeter',\n",
    "       'Solar energy']) "
   ]
  },
  {
   "cell_type": "markdown",
   "metadata": {},
   "source": [
    "#seperating day, month and year\n",
    "df['Day'] = pd.DatetimeIndex(df['Date']).day\n",
    "df['Month'] = pd.DatetimeIndex(df['Date']).month\n",
    "df['Year'] = pd.DatetimeIndex(df['Date']).year"
   ]
  },
  {
   "cell_type": "code",
   "execution_count": 7,
   "metadata": {},
   "outputs": [
    {
     "data": {
      "text/plain": [
       "(637, 10)"
      ]
     },
     "execution_count": 7,
     "metadata": {},
     "output_type": "execute_result"
    }
   ],
   "source": [
    "df.shape"
   ]
  },
  {
   "cell_type": "code",
   "execution_count": 8,
   "metadata": {},
   "outputs": [
    {
     "data": {
      "text/plain": [
       "Index(['Date', 'Cloud coverage', 'Visibility', 'Temperature', 'Dew point',\n",
       "       'Relative humidity', 'Wind speed', 'Station pressure', 'Altimeter',\n",
       "       'Solar energy'],\n",
       "      dtype='object')"
      ]
     },
     "execution_count": 8,
     "metadata": {},
     "output_type": "execute_result"
    }
   ],
   "source": [
    "df.columns"
   ]
  },
  {
   "cell_type": "code",
   "execution_count": 9,
   "metadata": {},
   "outputs": [
    {
     "data": {
      "text/html": [
       "<div>\n",
       "<style scoped>\n",
       "    .dataframe tbody tr th:only-of-type {\n",
       "        vertical-align: middle;\n",
       "    }\n",
       "\n",
       "    .dataframe tbody tr th {\n",
       "        vertical-align: top;\n",
       "    }\n",
       "\n",
       "    .dataframe thead th {\n",
       "        text-align: right;\n",
       "    }\n",
       "</style>\n",
       "<table border=\"1\" class=\"dataframe\">\n",
       "  <thead>\n",
       "    <tr style=\"text-align: right;\">\n",
       "      <th></th>\n",
       "      <th>Date</th>\n",
       "      <th>Cloud coverage</th>\n",
       "      <th>Visibility</th>\n",
       "      <th>Temperature</th>\n",
       "      <th>Dew point</th>\n",
       "      <th>Relative humidity</th>\n",
       "      <th>Wind speed</th>\n",
       "      <th>Station pressure</th>\n",
       "      <th>Altimeter</th>\n",
       "      <th>Solar energy</th>\n",
       "    </tr>\n",
       "  </thead>\n",
       "  <tbody>\n",
       "    <tr>\n",
       "      <td>0</td>\n",
       "      <td>5/30/2017</td>\n",
       "      <td>0.31</td>\n",
       "      <td>9.96</td>\n",
       "      <td>19.77</td>\n",
       "      <td>7.51</td>\n",
       "      <td>45.51</td>\n",
       "      <td>10.91</td>\n",
       "      <td>27.20</td>\n",
       "      <td>29.99</td>\n",
       "      <td>35074.0</td>\n",
       "    </tr>\n",
       "    <tr>\n",
       "      <td>1</td>\n",
       "      <td>7/26/2017</td>\n",
       "      <td>0.27</td>\n",
       "      <td>9.41</td>\n",
       "      <td>24.57</td>\n",
       "      <td>21.81</td>\n",
       "      <td>83.62</td>\n",
       "      <td>5.09</td>\n",
       "      <td>29.26</td>\n",
       "      <td>30.05</td>\n",
       "      <td>28983.0</td>\n",
       "    </tr>\n",
       "    <tr>\n",
       "      <td>2</td>\n",
       "      <td>6/5/2016</td>\n",
       "      <td>0.35</td>\n",
       "      <td>10.00</td>\n",
       "      <td>20.79</td>\n",
       "      <td>15.21</td>\n",
       "      <td>68.98</td>\n",
       "      <td>11.61</td>\n",
       "      <td>28.96</td>\n",
       "      <td>29.75</td>\n",
       "      <td>28213.0</td>\n",
       "    </tr>\n",
       "    <tr>\n",
       "      <td>3</td>\n",
       "      <td>1/19/2017</td>\n",
       "      <td>0.70</td>\n",
       "      <td>3.63</td>\n",
       "      <td>4.34</td>\n",
       "      <td>4.01</td>\n",
       "      <td>95.85</td>\n",
       "      <td>8.08</td>\n",
       "      <td>29.09</td>\n",
       "      <td>29.88</td>\n",
       "      <td>3127.0</td>\n",
       "    </tr>\n",
       "    <tr>\n",
       "      <td>4</td>\n",
       "      <td>5/5/2017</td>\n",
       "      <td>0.12</td>\n",
       "      <td>10.00</td>\n",
       "      <td>10.78</td>\n",
       "      <td>5.44</td>\n",
       "      <td>70.45</td>\n",
       "      <td>15.34</td>\n",
       "      <td>28.98</td>\n",
       "      <td>29.77</td>\n",
       "      <td>39832.0</td>\n",
       "    </tr>\n",
       "  </tbody>\n",
       "</table>\n",
       "</div>"
      ],
      "text/plain": [
       "        Date  Cloud coverage  Visibility  Temperature  Dew point  \\\n",
       "0  5/30/2017            0.31        9.96        19.77       7.51   \n",
       "1  7/26/2017            0.27        9.41        24.57      21.81   \n",
       "2   6/5/2016            0.35       10.00        20.79      15.21   \n",
       "3  1/19/2017            0.70        3.63         4.34       4.01   \n",
       "4   5/5/2017            0.12       10.00        10.78       5.44   \n",
       "\n",
       "   Relative humidity  Wind speed  Station pressure  Altimeter  Solar energy  \n",
       "0              45.51       10.91             27.20      29.99       35074.0  \n",
       "1              83.62        5.09             29.26      30.05       28983.0  \n",
       "2              68.98       11.61             28.96      29.75       28213.0  \n",
       "3              95.85        8.08             29.09      29.88        3127.0  \n",
       "4              70.45       15.34             28.98      29.77       39832.0  "
      ]
     },
     "execution_count": 9,
     "metadata": {},
     "output_type": "execute_result"
    }
   ],
   "source": [
    "df.head(5)"
   ]
  },
  {
   "cell_type": "code",
   "execution_count": 10,
   "metadata": {},
   "outputs": [
    {
     "name": "stdout",
     "output_type": "stream",
     "text": [
      "580.0\n",
      "40245.0\n",
      "21521.73312401884\n"
     ]
    }
   ],
   "source": [
    "print(df[\"Solar energy\"].min())\n",
    "print(df[\"Solar energy\"].max())\n",
    "print(df[\"Solar energy\"].mean())"
   ]
  },
  {
   "cell_type": "code",
   "execution_count": 11,
   "metadata": {},
   "outputs": [
    {
     "name": "stdout",
     "output_type": "stream",
     "text": [
      "Date                 637\n",
      "Cloud coverage       637\n",
      "Visibility           637\n",
      "Temperature          637\n",
      "Dew point            637\n",
      "Relative humidity    637\n",
      "Wind speed           637\n",
      "Station pressure     637\n",
      "Altimeter            637\n",
      "Solar energy         637\n",
      "dtype: int64\n"
     ]
    }
   ],
   "source": [
    "print(df.count(0))"
   ]
  },
  {
   "cell_type": "code",
   "execution_count": 12,
   "metadata": {},
   "outputs": [],
   "source": [
    "X= df.loc[:, df.columns != 'Solar energy']"
   ]
  },
  {
   "cell_type": "code",
   "execution_count": 13,
   "metadata": {},
   "outputs": [
    {
     "name": "stderr",
     "output_type": "stream",
     "text": [
      "/home/anna/anaconda3/lib/python3.7/site-packages/pandas/core/frame.py:4102: SettingWithCopyWarning: \n",
      "A value is trying to be set on a copy of a slice from a DataFrame\n",
      "\n",
      "See the caveats in the documentation: http://pandas.pydata.org/pandas-docs/stable/user_guide/indexing.html#returning-a-view-versus-a-copy\n",
      "  errors=errors,\n"
     ]
    }
   ],
   "source": [
    "X.drop([\"Date\"], axis = 1, inplace = True) "
   ]
  },
  {
   "cell_type": "code",
   "execution_count": 14,
   "metadata": {},
   "outputs": [],
   "source": [
    "y= df.iloc[:,9].values"
   ]
  },
  {
   "cell_type": "code",
   "execution_count": 15,
   "metadata": {},
   "outputs": [
    {
     "data": {
      "text/plain": [
       "array([35074., 28983., 28213.,  3127., 39832., 29671., 30312., 32663.,\n",
       "       20057., 28965.,  6834., 19562.,  1169.,  3416., 35855., 11365.,\n",
       "       20376., 22913., 14379., 10848.,  7270., 20898., 34494.,   580.,\n",
       "       12116., 22581., 31050., 16084., 24948., 24585., 11245., 14016.,\n",
       "       29142., 36626.,  7416., 37546., 27170.,  5427.,  3318., 31522.,\n",
       "       26058., 30038.,  2271., 29748., 22714., 20758., 12730.,  1761.,\n",
       "       35055.,  4409., 31868., 25236., 37680., 21074., 29679.,  3069.,\n",
       "       24367., 39197., 29969., 11539., 25673., 34654.,  8816.,  2596.,\n",
       "        9970., 28700.,  5592., 12426., 32503., 12981., 18860.,  9662.,\n",
       "       35216., 25191., 30676., 26135., 18800., 28154., 24809., 16663.,\n",
       "       32485., 23102., 13980.,  5601.,  9905., 30561., 13737., 26875.,\n",
       "       34230., 30306., 26532., 27582., 33340., 23804., 23505., 26312.,\n",
       "        9515., 37319., 31333., 31502., 35410., 33758., 19151., 11140.,\n",
       "       27643., 13002.,  1277., 29592., 38446.,  5239.,  2762., 25950.,\n",
       "       14633.,  3190., 30293., 17006., 26080., 18714., 38564., 15544.,\n",
       "       13522., 37976., 36736.,  3787.,  6146.,  2775.,  1773., 38827.,\n",
       "       24367., 37237., 29842.,  3219.,  4422., 25110., 33236.,  8828.,\n",
       "       29589., 35230.,  2549., 28695., 34267.,  8605., 26564., 31249.,\n",
       "       26909., 34518.,  4072., 14622., 19714., 19450., 26656., 24400.,\n",
       "        7070., 22130.,  5835., 25668., 25116., 30971., 15273.,  9517.,\n",
       "       34579., 21961., 27296., 21130.,  7768., 38147., 33236., 19152.,\n",
       "       37020., 34032., 29736., 30192., 33003., 23598.,  6894., 33291.,\n",
       "        4159., 33103., 37038.,  4090., 16347., 10550.,  8894.,  5180.,\n",
       "        4010., 13350., 23801., 16065., 22924., 40245., 23390., 32186.,\n",
       "       35268.,  4527.,  5795., 10091., 35506., 17674., 11687., 37640.,\n",
       "       32558., 30593.,  1066., 31376., 35501., 32237.,  8515., 34855.,\n",
       "       28780.,  1028.,  8105., 18050., 26117., 29973.,  2516., 21287.,\n",
       "       18553., 39044., 36635., 31601.,  9928., 30358., 19288., 31051.,\n",
       "        8273., 32036., 21348., 25617., 31504., 30854., 37113., 25978.,\n",
       "       29735.,  1602., 37100., 29112., 13472., 12760., 26148., 19671.,\n",
       "       26187., 24996., 26121.,  7162., 35034., 32494.,  8730., 26555.,\n",
       "        7570., 15279., 23463., 39354., 16648., 24834.,  2373., 28306.,\n",
       "       32508., 15317., 19316., 29127., 38775., 19299., 21437., 36269.,\n",
       "       29194.,  2916., 22140., 33872., 23093.,  9210., 27284., 24911.,\n",
       "       36790., 16855., 13460., 12268., 18516., 11647., 32666., 16241.,\n",
       "       33323., 17284., 34158., 27994., 14594., 26973., 27026., 19633.,\n",
       "       12265., 20576., 28926., 22026., 32316., 35004., 29110., 21443.,\n",
       "       29378., 21979.,  6266., 23467.,  7811., 32614., 17072., 27092.,\n",
       "       29089., 32097., 10922.,  1689., 12332., 29982., 14737., 36515.,\n",
       "       20879.,  9646., 29865., 31228., 35771., 28642., 31462., 18199.,\n",
       "       14258., 23094.,  9249., 12776., 27248.,  1896., 29873., 32434.,\n",
       "       14126.,  3423.,  2799.,  2679.,  6383., 25838., 28753., 14457.,\n",
       "       28709., 30910.,  8418., 27093., 29241., 31786., 26341.,  2447.,\n",
       "       11035., 31239., 29784., 27701., 34371., 25474., 24646., 27330.,\n",
       "       28642., 31883., 21828., 26013., 12923.,  8637., 22365., 10862.,\n",
       "       30629., 32352., 22240., 37095., 25049., 22477., 25887., 29165.,\n",
       "       19900., 34814.,  1553., 38579., 16174.,  3409.,  4682.,  8325.,\n",
       "        8155.,  6044.,  1468., 29696., 22488., 27558., 25074., 34840.,\n",
       "        5814., 25261., 40181., 36122., 28496., 29647., 30271., 28506.,\n",
       "        6363., 32979., 32424., 16552., 22309.,  7536., 27236., 11314.,\n",
       "        2941., 36095., 21775.,  4263., 15527., 22241., 26170., 31097.,\n",
       "        6400., 29016., 28183., 11426., 25592., 15106., 35804., 19283.,\n",
       "       23588., 13622.,  7094.,  5395., 12168.,   716., 10681., 13895.,\n",
       "       10910., 12814., 38705., 13263.,  7561., 21654., 38834., 21845.,\n",
       "       27424.,  7017., 36389., 14500.,  9243., 27377., 25844., 28304.,\n",
       "       19978., 31449., 34548., 27801., 11888., 30943., 20726., 32295.,\n",
       "       28622., 32084.,  6866., 14632.,  6859., 36645., 23176., 22074.,\n",
       "       26180., 40189., 36918., 22642., 31368., 34762., 16590., 22813.,\n",
       "       28664., 33738., 27052., 33975., 31392., 20976.,  6641.,   770.,\n",
       "       15359., 26371., 17818., 30380., 18564.,  1202.,  7494., 29472.,\n",
       "        4995., 15970., 15797.,  1214.,  8324., 31074.,  7571., 34424.,\n",
       "       28284., 25836., 40086., 27449., 12936., 37906., 27461.,  3709.,\n",
       "       21662., 15132., 32115., 23899., 21542.,  7081., 26149., 22677.,\n",
       "       28754., 37786., 25093., 28299., 15219., 10744.,  9427., 31871.,\n",
       "        2407., 27937., 32570., 27097., 23294., 20148., 39413., 12225.,\n",
       "        9741., 17982., 22628., 20256., 26263., 28907., 26916., 35454.,\n",
       "        1654., 27921., 20459., 33487., 13194., 10099., 23026., 14774.,\n",
       "       19145.,  1347., 29445.,  7357.,  6329.,  2869., 21195.,  8060.,\n",
       "       22952., 22893., 37157., 34696., 21140.,  1115., 25669., 32742.,\n",
       "       14309., 21889., 37255., 23697., 28845., 32611., 30307., 27465.,\n",
       "       34062., 10456., 21707., 20706., 10268.,  8354., 31243., 34442.,\n",
       "       14840., 32386., 32029., 32931.,  3764., 20111., 25818., 19052.,\n",
       "       33640., 16864., 24473., 30399., 15725., 20861., 33934.,  5244.,\n",
       "       30098., 22751., 22214.,  8140.,  5446., 33204., 26108., 38677.,\n",
       "       23835., 16258.,  5489.,  8348.,  8537., 22141., 20909., 10177.,\n",
       "       21582., 30348., 19233., 27741., 24982., 12651., 27589., 10605.,\n",
       "       26024., 17049.,  4046., 14363.,  8129., 11678., 25157., 14137.,\n",
       "       36183., 34298.,  4487., 38978., 13310.,  3341., 31689., 13058.,\n",
       "       23194., 11702., 38568., 35197.,  2592., 19602.,  6314.,  6014.,\n",
       "       20675., 22774., 16224., 38508., 13716.])"
      ]
     },
     "execution_count": 15,
     "metadata": {},
     "output_type": "execute_result"
    }
   ],
   "source": [
    "y"
   ]
  },
  {
   "cell_type": "code",
   "execution_count": 16,
   "metadata": {},
   "outputs": [],
   "source": [
    "# train and test data\n",
    "from sklearn.model_selection import train_test_split\n",
    "X_train, X_test, y_train, y_test = train_test_split(X, y, test_size=0.33, random_state=42)\n"
   ]
  },
  {
   "cell_type": "code",
   "execution_count": 17,
   "metadata": {},
   "outputs": [],
   "source": [
    "model = keras.Sequential()"
   ]
  },
  {
   "cell_type": "code",
   "execution_count": 18,
   "metadata": {},
   "outputs": [
    {
     "data": {
      "text/plain": [
       "(637, 8)"
      ]
     },
     "execution_count": 18,
     "metadata": {},
     "output_type": "execute_result"
    }
   ],
   "source": [
    "X.shape"
   ]
  },
  {
   "cell_type": "code",
   "execution_count": 19,
   "metadata": {},
   "outputs": [],
   "source": [
    "from keras.layers import Dense, Dropout, Activation\n",
    "\n",
    "model.add(Dense(4, activation='tanh', input_dim=8))\n",
    "#model.add(Dropout(0.5))\n",
    "model.add(Dense(4, activation='tanh'))\n",
    "#model.add(Dropout(0.5))\n",
    "model.add(Dense(1, activation='softmax'))"
   ]
  },
  {
   "cell_type": "code",
   "execution_count": 20,
   "metadata": {},
   "outputs": [],
   "source": [
    "# Compile model\n",
    "model.compile(loss='mean_squared_error', optimizer='adam')"
   ]
  },
  {
   "cell_type": "code",
   "execution_count": 21,
   "metadata": {},
   "outputs": [
    {
     "data": {
      "text/plain": [
       "(426, 8)"
      ]
     },
     "execution_count": 21,
     "metadata": {},
     "output_type": "execute_result"
    }
   ],
   "source": [
    "X_train.shape"
   ]
  },
  {
   "cell_type": "code",
   "execution_count": 22,
   "metadata": {},
   "outputs": [
    {
     "name": "stdout",
     "output_type": "stream",
     "text": [
      "Train on 426 samples, validate on 211 samples\n",
      "Epoch 1/150\n",
      " - 4s - loss: 589526087.8122 - val_loss: 562426013.7251\n",
      "Epoch 2/150\n",
      " - 0s - loss: 589526064.3756 - val_loss: 562426013.7251\n",
      "Epoch 3/150\n",
      " - 0s - loss: 589526091.4178 - val_loss: 562426013.7251\n",
      "Epoch 4/150\n",
      " - 0s - loss: 589526080.6009 - val_loss: 562426013.7251\n",
      "Epoch 5/150\n",
      " - 0s - loss: 589526083.6056 - val_loss: 562426013.7251\n",
      "Epoch 6/150\n",
      " - 0s - loss: 589526070.0845 - val_loss: 562426013.7251\n",
      "Epoch 7/150\n",
      " - 0s - loss: 589526080.1502 - val_loss: 562426013.7251\n",
      "Epoch 8/150\n",
      " - 0s - loss: 589526065.2770 - val_loss: 562426013.7251\n",
      "Epoch 9/150\n",
      " - 0s - loss: 589526075.7934 - val_loss: 562426013.7251\n",
      "Epoch 10/150\n",
      " - 0s - loss: 589526093.5211 - val_loss: 562426013.7251\n",
      "Epoch 11/150\n",
      " - 0s - loss: 589526083.9061 - val_loss: 562426013.7251\n",
      "Epoch 12/150\n",
      " - 0s - loss: 589526075.7934 - val_loss: 562426013.7251\n",
      "Epoch 13/150\n",
      " - 0s - loss: 589526096.8263 - val_loss: 562426013.7251\n",
      "Epoch 14/150\n",
      " - 0s - loss: 589526096.8263 - val_loss: 562426013.7251\n",
      "Epoch 15/150\n",
      " - 0s - loss: 589526092.9202 - val_loss: 562426013.7251\n",
      "Epoch 16/150\n",
      " - 0s - loss: 589526091.7183 - val_loss: 562426013.7251\n",
      "Epoch 17/150\n",
      " - 0s - loss: 589526054.7606 - val_loss: 562426013.7251\n",
      "Epoch 18/150\n",
      " - 0s - loss: 589526105.5399 - val_loss: 562426013.7251\n",
      "Epoch 19/150\n",
      " - 0s - loss: 589526082.2535 - val_loss: 562426013.7251\n",
      "Epoch 20/150\n",
      " - 0s - loss: 589526095.0235 - val_loss: 562426013.7251\n",
      "Epoch 21/150\n",
      " - 0s - loss: 589526081.2019 - val_loss: 562426013.7251\n",
      "Epoch 22/150\n",
      " - 0s - loss: 589526100.7324 - val_loss: 562426013.7251\n",
      "Epoch 23/150\n",
      " - 0s - loss: 589526096.6761 - val_loss: 562426013.7251\n",
      "Epoch 24/150\n",
      " - 0s - loss: 589526095.6244 - val_loss: 562426013.7251\n",
      "Epoch 25/150\n",
      " - 0s - loss: 589526103.1362 - val_loss: 562426013.7251\n",
      "Epoch 26/150\n",
      " - 0s - loss: 589526091.1174 - val_loss: 562426013.7251\n",
      "Epoch 27/150\n",
      " - 0s - loss: 589526120.8638 - val_loss: 562426013.7251\n",
      "Epoch 28/150\n",
      " - 0s - loss: 589526073.5399 - val_loss: 562426013.7251\n",
      "Epoch 29/150\n",
      " - 0s - loss: 589526086.9108 - val_loss: 562426013.7251\n",
      "Epoch 30/150\n",
      " - 0s - loss: 589526054.1596 - val_loss: 562426013.7251\n",
      "Epoch 31/150\n",
      " - 0s - loss: 589526101.6338 - val_loss: 562426013.7251\n",
      "Epoch 32/150\n",
      " - 0s - loss: 589526076.3944 - val_loss: 562426013.7251\n",
      "Epoch 33/150\n",
      " - 0s - loss: 589526096.8263 - val_loss: 562426013.7251\n",
      "Epoch 34/150\n",
      " - 0s - loss: 589526088.1127 - val_loss: 562426013.7251\n",
      "Epoch 35/150\n",
      " - 0s - loss: 589526120.8638 - val_loss: 562426013.7251\n",
      "Epoch 36/150\n",
      " - 0s - loss: 589526089.3146 - val_loss: 562426013.7251\n",
      "Epoch 37/150\n",
      " - 0s - loss: 589526085.8592 - val_loss: 562426013.7251\n",
      "Epoch 38/150\n",
      " - 0s - loss: 589526071.8873 - val_loss: 562426013.7251\n",
      "Epoch 39/150\n",
      " - 0s - loss: 589526080.9014 - val_loss: 562426013.7251\n",
      "Epoch 40/150\n",
      " - 0s - loss: 589526117.1080 - val_loss: 562426013.7251\n",
      "Epoch 41/150\n",
      " - 0s - loss: 589526092.6197 - val_loss: 562426013.7251\n",
      "Epoch 42/150\n",
      " - 0s - loss: 589526074.5915 - val_loss: 562426013.7251\n",
      "Epoch 43/150\n",
      " - 0s - loss: 589526067.2300 - val_loss: 562426013.7251\n",
      "Epoch 44/150\n",
      " - 0s - loss: 589526083.0047 - val_loss: 562426013.7251\n",
      "Epoch 45/150\n",
      " - 0s - loss: 589526090.2160 - val_loss: 562426013.7251\n",
      "Epoch 46/150\n",
      " - 0s - loss: 589526086.3099 - val_loss: 562426013.7251\n",
      "Epoch 47/150\n",
      " - 0s - loss: 589526063.1737 - val_loss: 562426013.7251\n",
      "Epoch 48/150\n",
      " - 0s - loss: 589526065.8779 - val_loss: 562426013.7251\n",
      "Epoch 49/150\n",
      " - 0s - loss: 589526090.8169 - val_loss: 562426013.7251\n",
      "Epoch 50/150\n",
      " - 0s - loss: 589526080.6009 - val_loss: 562426013.7251\n",
      "Epoch 51/150\n",
      " - 0s - loss: 589526086.6103 - val_loss: 562426013.7251\n",
      "Epoch 52/150\n",
      " - 0s - loss: 589526103.1362 - val_loss: 562426013.7251\n",
      "Epoch 53/150\n",
      " - 0s - loss: 589526099.5305 - val_loss: 562426013.7251\n",
      "Epoch 54/150\n",
      " - 0s - loss: 589526068.5822 - val_loss: 562426013.7251\n",
      "Epoch 55/150\n",
      " - 0s - loss: 589526113.9531 - val_loss: 562426013.7251\n",
      "Epoch 56/150\n",
      " - 0s - loss: 589526073.0892 - val_loss: 562426013.7251\n",
      "Epoch 57/150\n",
      " - 0s - loss: 589526081.2019 - val_loss: 562426013.7251\n",
      "Epoch 58/150\n",
      " - 0s - loss: 589526068.5822 - val_loss: 562426013.7251\n",
      "Epoch 59/150\n",
      " - 0s - loss: 589526098.9296 - val_loss: 562426013.7251\n",
      "Epoch 60/150\n",
      " - 0s - loss: 589526145.5023 - val_loss: 562426013.7251\n",
      "Epoch 61/150\n",
      " - 0s - loss: 589526093.8216 - val_loss: 562426013.7251\n",
      "Epoch 62/150\n",
      " - 0s - loss: 589526084.2066 - val_loss: 562426013.7251\n",
      "Epoch 63/150\n",
      " - 0s - loss: 589526058.2160 - val_loss: 562426013.7251\n",
      "Epoch 64/150\n",
      " - 0s - loss: 589526082.1033 - val_loss: 562426013.7251\n",
      "Epoch 65/150\n",
      " - 0s - loss: 589526078.4977 - val_loss: 562426013.7251\n",
      "Epoch 66/150\n",
      " - 0s - loss: 589526098.3286 - val_loss: 562426013.7251\n",
      "Epoch 67/150\n",
      " - 0s - loss: 589526076.9953 - val_loss: 562426013.7251\n",
      "Epoch 68/150\n",
      " - 0s - loss: 589526101.0329 - val_loss: 562426013.7251\n",
      "Epoch 69/150\n",
      " - 0s - loss: 589526083.0047 - val_loss: 562426013.7251\n",
      "Epoch 70/150\n",
      " - 0s - loss: 589526106.4413 - val_loss: 562426013.7251\n",
      "Epoch 71/150\n",
      " - 0s - loss: 589526113.5023 - val_loss: 562426013.7251\n",
      "Epoch 72/150\n",
      " - 0s - loss: 589526078.1972 - val_loss: 562426013.7251\n",
      "Epoch 73/150\n",
      " - 0s - loss: 589526075.4930 - val_loss: 562426013.7251\n",
      "Epoch 74/150\n",
      " - 0s - loss: 589526090.2160 - val_loss: 562426013.7251\n",
      "Epoch 75/150\n",
      " - 0s - loss: 589526085.7089 - val_loss: 562426013.7251\n",
      "Epoch 76/150\n",
      " - 0s - loss: 589526087.2113 - val_loss: 562426013.7251\n",
      "Epoch 77/150\n",
      " - 0s - loss: 589526099.3803 - val_loss: 562426013.7251\n",
      "Epoch 78/150\n",
      " - 0s - loss: 589526091.4178 - val_loss: 562426013.7251\n",
      "Epoch 79/150\n",
      " - 0s - loss: 589526076.5446 - val_loss: 562426013.7251\n",
      "Epoch 80/150\n",
      " - 0s - loss: 589526098.6291 - val_loss: 562426013.7251\n",
      "Epoch 81/150\n",
      " - 0s - loss: 589526058.9671 - val_loss: 562426013.7251\n",
      "Epoch 82/150\n",
      " - 0s - loss: 589526101.3333 - val_loss: 562426013.7251\n",
      "Epoch 83/150\n",
      " - 0s - loss: 589526112.6009 - val_loss: 562426013.7251\n",
      "Epoch 84/150\n",
      " - 0s - loss: 589526085.4085 - val_loss: 562426013.7251\n",
      "Epoch 85/150\n",
      " - 0s - loss: 589526104.3380 - val_loss: 562426013.7251\n",
      "Epoch 86/150\n",
      " - 0s - loss: 589526054.7606 - val_loss: 562426013.7251\n",
      "Epoch 87/150\n",
      " - 0s - loss: 589526074.8920 - val_loss: 562426013.7251\n",
      "Epoch 88/150\n",
      " - 0s - loss: 589526106.4413 - val_loss: 562426013.7251\n",
      "Epoch 89/150\n",
      " - 0s - loss: 589526078.6479 - val_loss: 562426013.7251\n",
      "Epoch 90/150\n",
      " - 0s - loss: 589526080.3005 - val_loss: 562426013.7251\n",
      "Epoch 91/150\n",
      " - 0s - loss: 589526072.1878 - val_loss: 562426013.7251\n",
      "Epoch 92/150\n",
      " - 0s - loss: 589526088.4131 - val_loss: 562426013.7251\n",
      "Epoch 93/150\n",
      " - 0s - loss: 589526101.9343 - val_loss: 562426013.7251\n",
      "Epoch 94/150\n",
      " - 0s - loss: 589526075.7934 - val_loss: 562426013.7251\n",
      "Epoch 95/150\n",
      " - 0s - loss: 589526100.5822 - val_loss: 562426013.7251\n",
      "Epoch 96/150\n",
      " - 0s - loss: 589526106.1408 - val_loss: 562426013.7251\n",
      "Epoch 97/150\n",
      " - 0s - loss: 589526094.4225 - val_loss: 562426013.7251\n",
      "Epoch 98/150\n",
      " - 0s - loss: 589526081.5023 - val_loss: 562426013.7251\n",
      "Epoch 99/150\n",
      " - 0s - loss: 589526104.6385 - val_loss: 562426013.7251\n",
      "Epoch 100/150\n",
      " - 0s - loss: 589526092.7700 - val_loss: 562426013.7251\n",
      "Epoch 101/150\n",
      " - 0s - loss: 589526080.6009 - val_loss: 562426013.7251\n",
      "Epoch 102/150\n",
      " - 0s - loss: 589526106.7418 - val_loss: 562426013.7251\n",
      "Epoch 103/150\n",
      " - 0s - loss: 589526092.1690 - val_loss: 562426013.7251\n",
      "Epoch 104/150\n",
      " - 0s - loss: 589526087.0610 - val_loss: 562426013.7251\n",
      "Epoch 105/150\n",
      " - 0s - loss: 589526090.8169 - val_loss: 562426013.7251\n",
      "Epoch 106/150\n",
      " - 0s - loss: 589526093.5211 - val_loss: 562426013.7251\n",
      "Epoch 107/150\n",
      " - 0s - loss: 589526049.3521 - val_loss: 562426013.7251\n",
      "Epoch 108/150\n",
      " - 0s - loss: 589526068.2817 - val_loss: 562426013.7251\n",
      "Epoch 109/150\n",
      " - 0s - loss: 589526073.6901 - val_loss: 562426013.7251\n",
      "Epoch 110/150\n",
      " - 0s - loss: 589526071.2864 - val_loss: 562426013.7251\n",
      "Epoch 111/150\n",
      " - 0s - loss: 589526089.9155 - val_loss: 562426013.7251\n",
      "Epoch 112/150\n",
      " - 0s - loss: 589526073.3897 - val_loss: 562426013.7251\n",
      "Epoch 113/150\n",
      " - 0s - loss: 589526072.7887 - val_loss: 562426013.7251\n",
      "Epoch 114/150\n",
      " - 0s - loss: 589526085.4085 - val_loss: 562426013.7251\n",
      "Epoch 115/150\n",
      " - 0s - loss: 589526075.1925 - val_loss: 562426013.7251\n",
      "Epoch 116/150\n",
      " - 0s - loss: 589526110.0469 - val_loss: 562426013.7251\n",
      "Epoch 117/150\n",
      " - 0s - loss: 589526101.9343 - val_loss: 562426013.7251\n",
      "Epoch 118/150\n",
      " - 0s - loss: 589526082.5540 - val_loss: 562426013.7251\n"
     ]
    },
    {
     "name": "stdout",
     "output_type": "stream",
     "text": [
      "Epoch 119/150\n",
      " - 0s - loss: 589526089.3146 - val_loss: 562426013.7251\n",
      "Epoch 120/150\n",
      " - 0s - loss: 589526122.3662 - val_loss: 562426013.7251\n",
      "Epoch 121/150\n",
      " - 0s - loss: 589526088.7136 - val_loss: 562426013.7251\n",
      "Epoch 122/150\n",
      " - 0s - loss: 589526086.0094 - val_loss: 562426013.7251\n",
      "Epoch 123/150\n",
      " - 0s - loss: 589526098.9296 - val_loss: 562426013.7251\n",
      "Epoch 124/150\n",
      " - 0s - loss: 589526082.7042 - val_loss: 562426013.7251\n",
      "Epoch 125/150\n",
      " - 0s - loss: 589526106.7418 - val_loss: 562426013.7251\n",
      "Epoch 126/150\n",
      " - 0s - loss: 589526091.4178 - val_loss: 562426013.7251\n",
      "Epoch 127/150\n",
      " - 0s - loss: 589526101.9343 - val_loss: 562426013.7251\n",
      "Epoch 128/150\n",
      " - 0s - loss: 589526093.8216 - val_loss: 562426013.7251\n",
      "Epoch 129/150\n",
      " - 0s - loss: 589526095.6244 - val_loss: 562426013.7251\n",
      "Epoch 130/150\n",
      " - 0s - loss: 589526082.4038 - val_loss: 562426013.7251\n",
      "Epoch 131/150\n",
      " - 0s - loss: 589526101.9343 - val_loss: 562426013.7251\n",
      "Epoch 132/150\n",
      " - 0s - loss: 589526072.7887 - val_loss: 562426013.7251\n",
      "Epoch 133/150\n",
      " - 0s - loss: 589526075.0423 - val_loss: 562426013.7251\n",
      "Epoch 134/150\n",
      " - 0s - loss: 589526097.4272 - val_loss: 562426013.7251\n",
      "Epoch 135/150\n",
      " - 0s - loss: 589526116.9577 - val_loss: 562426013.7251\n",
      "Epoch 136/150\n",
      " - 0s - loss: 589526051.6056 - val_loss: 562426013.7251\n",
      "Epoch 137/150\n",
      " - 0s - loss: 589526077.4460 - val_loss: 562426013.7251\n",
      "Epoch 138/150\n",
      " - 0s - loss: 589526075.7934 - val_loss: 562426013.7251\n",
      "Epoch 139/150\n",
      " - 0s - loss: 589526098.0282 - val_loss: 562426013.7251\n",
      "Epoch 140/150\n",
      " - 0s - loss: 589526084.2066 - val_loss: 562426013.7251\n",
      "Epoch 141/150\n",
      " - 0s - loss: 589526080.9014 - val_loss: 562426013.7251\n",
      "Epoch 142/150\n",
      " - 0s - loss: 589526090.3662 - val_loss: 562426013.7251\n",
      "Epoch 143/150\n",
      " - 0s - loss: 589526095.9249 - val_loss: 562426013.7251\n",
      "Epoch 144/150\n",
      " - 0s - loss: 589526102.2347 - val_loss: 562426013.7251\n",
      "Epoch 145/150\n",
      " - 0s - loss: 589526091.4178 - val_loss: 562426013.7251\n",
      "Epoch 146/150\n",
      " - 0s - loss: 589526092.6197 - val_loss: 562426013.7251\n",
      "Epoch 147/150\n",
      " - 0s - loss: 589526080.9014 - val_loss: 562426013.7251\n",
      "Epoch 148/150\n",
      " - 0s - loss: 589526079.3991 - val_loss: 562426013.7251\n",
      "Epoch 149/150\n",
      " - 0s - loss: 589526098.6291 - val_loss: 562426013.7251\n",
      "Epoch 150/150\n",
      " - 0s - loss: 589526120.5634 - val_loss: 562426013.7251\n"
     ]
    },
    {
     "data": {
      "text/plain": [
       "<keras.callbacks.callbacks.History at 0x7f8290415190>"
      ]
     },
     "execution_count": 22,
     "metadata": {},
     "output_type": "execute_result"
    }
   ],
   "source": [
    "model.fit(X_train, y_train, batch_size=100, epochs=150, verbose=2, callbacks=None, validation_split=0.5, validation_data=(X_test,y_test), shuffle=True, class_weight=None, sample_weight=None, initial_epoch=0, steps_per_epoch=None, validation_steps=None)"
   ]
  },
  {
   "cell_type": "code",
   "execution_count": 23,
   "metadata": {},
   "outputs": [
    {
     "name": "stderr",
     "output_type": "stream",
     "text": [
      "/home/anna/anaconda3/lib/python3.7/site-packages/sklearn/externals/joblib/__init__.py:15: DeprecationWarning: sklearn.externals.joblib is deprecated in 0.21 and will be removed in 0.23. Please import this functionality directly from joblib, which can be installed with: pip install joblib. If this warning is raised when loading pickled models, you may need to re-serialize those models with scikit-learn 0.21+.\n",
      "  warnings.warn(msg, category=DeprecationWarning)\n"
     ]
    }
   ],
   "source": [
    "from sklearn.externals import joblib"
   ]
  },
  {
   "cell_type": "code",
   "execution_count": 24,
   "metadata": {},
   "outputs": [
    {
     "data": {
      "text/plain": [
       "['model.pkl']"
      ]
     },
     "execution_count": 24,
     "metadata": {},
     "output_type": "execute_result"
    }
   ],
   "source": [
    "joblib.dump(model, 'model.pkl')"
   ]
  },
  {
   "cell_type": "code",
   "execution_count": 25,
   "metadata": {},
   "outputs": [
    {
     "data": {
      "text/plain": [
       "(637, 10)"
      ]
     },
     "execution_count": 25,
     "metadata": {},
     "output_type": "execute_result"
    }
   ],
   "source": [
    "df.shape"
   ]
  },
  {
   "cell_type": "code",
   "execution_count": 32,
   "metadata": {},
   "outputs": [],
   "source": [
    "df.drop([\"Date\"], axis = 1, inplace = True) "
   ]
  },
  {
   "cell_type": "code",
   "execution_count": 33,
   "metadata": {},
   "outputs": [
    {
     "name": "stdout",
     "output_type": "stream",
     "text": [
      "Models columns dumped!\n"
     ]
    }
   ],
   "source": [
    "# Saving the data columns from training\n",
    "model_columns = list(df.columns)\n",
    "joblib.dump(model_columns, 'model_columnsy.pkl')\n",
    "print(\"Models columns dumped!\")"
   ]
  },
  {
   "cell_type": "code",
   "execution_count": null,
   "metadata": {},
   "outputs": [],
   "source": []
  }
 ],
 "metadata": {
  "kernelspec": {
   "display_name": "Python 3",
   "language": "python",
   "name": "python3"
  },
  "language_info": {
   "codemirror_mode": {
    "name": "ipython",
    "version": 3
   },
   "file_extension": ".py",
   "mimetype": "text/x-python",
   "name": "python",
   "nbconvert_exporter": "python",
   "pygments_lexer": "ipython3",
   "version": "3.7.4"
  }
 },
 "nbformat": 4,
 "nbformat_minor": 2
}
